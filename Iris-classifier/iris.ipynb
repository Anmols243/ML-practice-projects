{
 "cells": [
  {
   "cell_type": "code",
   "execution_count": 17,
   "id": "27a20ef4",
   "metadata": {},
   "outputs": [
    {
     "name": "stdout",
     "output_type": "stream",
     "text": [
      "Accuracy: 1.0\n",
      "Precision: 1.0\n",
      "Recall: 1.0\n",
      "f1 Score: 1.0\n"
     ]
    },
    {
     "data": {
      "image/png": "[encoded data removed]",
      "text/plain": [
       "<Figure size 640x480 with 2 Axes>"
      ]
     },
     "metadata": {},
     "output_type": "display_data"
    }
   ],
   "source": [
    "import pandas as pd\n",
    "from sklearn.datasets import load_iris\n",
    "from sklearn.linear_model import LogisticRegression\n",
    "from sklearn.metrics import confusion_matrix,accuracy_score,precision_score,recall_score,f1_score,roc_auc_score\n",
    "from sklearn.model_selection import train_test_split\n",
    "from sklearn.pipeline import Pipeline\n",
    "import seaborn as sns\n",
    "import matplotlib.pyplot as plt\n",
    "\n",
    "def load_data():\n",
    "    iris = load_iris()\n",
    "    X = pd.DataFrame(iris.data, columns=iris.feature_names)\n",
    "    y = iris.target\n",
    "    \n",
    "    return X, y\n",
    "\n",
    "def pre_process(X, y , test_size=0.2, random_state = 42):\n",
    "    return train_test_split (X, y, test_size = test_size, random_state = random_state)\n",
    "\n",
    "def build_pipeline():\n",
    "    pipe = Pipeline([\n",
    "        (\"model\", LogisticRegression())\n",
    "    ])\n",
    "    return pipe\n",
    "\n",
    "def evaluate(model,X_test, y_test):\n",
    "    \n",
    "    predicted = model.predict(X_test)\n",
    "    acc = accuracy_score(y_test,predicted)\n",
    "    prec = precision_score(y_test, predicted, average=\"weighted\")\n",
    "    recall = recall_score(y_test, predicted, average=\"weighted\")\n",
    "    f1 = f1_score(y_test, predicted, average=\"weighted\")\n",
    "    cm = confusion_matrix(y_test,predicted)\n",
    "    \n",
    "    print(f\"Accuracy: {acc}\")\n",
    "    print(f\"Precision: {prec}\")\n",
    "    print(f\"Recall: {recall}\")\n",
    "    print(f\"f1 Score: {f1}\")\n",
    "    \n",
    "    sns.heatmap(cm, annot=True, fmt=\"d\", cmap=\"Blues\")\n",
    "    plt.xlabel(\"Predicted\")\n",
    "    plt.ylabel(\"Actual\")\n",
    "    plt.show()\n",
    "    \n",
    "if __name__ == \"__main__\":\n",
    "    X, y = load_data()\n",
    "    X_train, X_test, y_train, y_test = pre_process(X, y)\n",
    "    \n",
    "    pipe = build_pipeline()\n",
    "    pipe.fit(X_train,y_train)\n",
    "    \n",
    "    evaluate(pipe, X_test, y_test)\n",
    "    "
   ]
  }
 ],
 "metadata": {
  "kernelspec": {
   "display_name": "ml_practice",
   "language": "python",
   "name": "python3"
  },
  "language_info": {
   "codemirror_mode": {
    "name": "ipython",
    "version": 3
   },
   "file_extension": ".py",
   "mimetype": "text/x-python",
   "name": "python",
   "nbconvert_exporter": "python",
   "pygments_lexer": "ipython3",
   "version": "3.13.5"
  }
 },
 "nbformat": 4,
 "nbformat_minor": 5
}
