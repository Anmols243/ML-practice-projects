{
 "cells": [
  {
   "cell_type": "code",
   "execution_count": 9,
   "id": "245c5f98",
   "metadata": {},
   "outputs": [
    {
     "data": {
      "text/plain": [
       "0      13300000\n",
       "1      12250000\n",
       "2      12250000\n",
       "3      12215000\n",
       "4      11410000\n",
       "         ...   \n",
       "540     1820000\n",
       "541     1767150\n",
       "542     1750000\n",
       "543     1750000\n",
       "544     1750000\n",
       "Name: price, Length: 545, dtype: int64"
      ]
     },
     "execution_count": 9,
     "metadata": {},
     "output_type": "execute_result"
    }
   ],
   "source": [
    "import pandas as pd\n",
    "from sklearn.linear_model import LinearRegression\n",
    "from sklearn.metrics import mean_absolute_error,mean_squared_error,r2_score\n",
    "import numpy as np\n",
    "from sklearn.pipeline import Pipeline\n",
    "from sklearn.model_selection import train_test_split\n",
    "from sklearn.impute import SimpleImputer\n",
    "\n",
    "data = pd.read_csv(\"Housing.csv\")\n",
    "data.price"
   ]
  },
  {
   "cell_type": "code",
   "execution_count": 18,
   "id": "ac299a6c",
   "metadata": {},
   "outputs": [
    {
     "name": "stdout",
     "output_type": "stream",
     "text": [
      "MAE: 970043.4039201644\n",
      "MSE: 1754318687330.6685\n",
      "RMAE: 1324506.9600914405\n",
      "R^2: 0.6529242642153175\n"
     ]
    }
   ],
   "source": [
    "import pandas as pd\n",
    "from sklearn.linear_model import LinearRegression\n",
    "from sklearn.metrics import mean_absolute_error,mean_squared_error,r2_score\n",
    "import numpy as np\n",
    "from sklearn.pipeline import Pipeline\n",
    "from sklearn.model_selection import train_test_split\n",
    "from sklearn.impute import SimpleImputer\n",
    "from sklearn.preprocessing import OneHotEncoder ,StandardScaler\n",
    "from sklearn.compose import ColumnTransformer\n",
    "\n",
    "def load_data():\n",
    "    house = pd.read_csv(\"Housing.csv\")\n",
    "\n",
    "    X = house.drop(\"price\", axis=1)\n",
    "    y = house[\"price\"]\n",
    "\n",
    "    return X, y\n",
    "\n",
    "def pre_process(X, y, test_size = 0.2, random_state = 42):\n",
    "    return train_test_split(X,y,test_size=test_size,random_state=random_state)\n",
    "\n",
    "def build_pipeline(X):\n",
    "    \n",
    "    numerical_features = X.select_dtypes(include=np.number).columns.tolist()\n",
    "    categorical_features = X.select_dtypes(include=\"object\").columns.tolist()\n",
    "    \n",
    "    numerical_transformer = Pipeline([\n",
    "        (\"Imputer\", SimpleImputer(strategy=\"mean\")),\n",
    "        (\"Scaler\", StandardScaler())\n",
    "    ])\n",
    "    \n",
    "    categorical_transformer = Pipeline([\n",
    "        (\"Imputer\",SimpleImputer(strategy=\"most_frequent\")),\n",
    "        (\"Onehot\", OneHotEncoder(handle_unknown=\"ignore\"))\n",
    "    ])\n",
    "    \n",
    "    preprocessor = ColumnTransformer([\n",
    "        ('num', numerical_transformer, numerical_features),\n",
    "        ('cat', categorical_transformer, categorical_features)\n",
    "    ])\n",
    "    \n",
    "    pipe = Pipeline([\n",
    "        (\"Preprocessor\", preprocessor),\n",
    "        (\"model\", LinearRegression())\n",
    "    ])\n",
    "    return pipe\n",
    "    \n",
    "def evaluate(model, X_test, y_test):\n",
    "    predicted = model.predict(X_test)\n",
    "    MAE = mean_absolute_error(y_test,predicted)\n",
    "    MSE = mean_squared_error(y_test,predicted)\n",
    "    RMAE = np.sqrt(MSE)\n",
    "    R2 = r2_score(y_test,predicted)\n",
    "    \n",
    "    print(f\"MAE: {MAE}\")\n",
    "    print(f\"MSE: {MSE}\")\n",
    "    print(f\"RMAE: {RMAE}\")\n",
    "    print(f\"R^2: {R2}\")\n",
    "    \n",
    "if __name__ == \"__main__\":\n",
    "    X, y = load_data()\n",
    "    X_train, X_test, y_train, y_test = pre_process(X, y)\n",
    "    \n",
    "    pipe = build_pipeline(X_train)\n",
    "    pipe.fit(X_train, y_train)\n",
    "    evaluate(pipe, X_test,y_test)\n",
    "  "
   ]
  }
 ],
 "metadata": {
  "kernelspec": {
   "display_name": "ml_practice",
   "language": "python",
   "name": "python3"
  },
  "language_info": {
   "codemirror_mode": {
    "name": "ipython",
    "version": 3
   },
   "file_extension": ".py",
   "mimetype": "text/x-python",
   "name": "python",
   "nbconvert_exporter": "python",
   "pygments_lexer": "ipython3",
   "version": "3.13.5"
  }
 },
 "nbformat": 4,
 "nbformat_minor": 5
}
